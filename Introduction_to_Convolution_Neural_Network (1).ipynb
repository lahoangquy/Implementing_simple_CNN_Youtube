{
  "nbformat": 4,
  "nbformat_minor": 0,
  "metadata": {
    "colab": {
      "name": "Introduction to Convolution Neural Network.ipynb",
      "provenance": []
    },
    "kernelspec": {
      "name": "python3",
      "display_name": "Python 3"
    },
    "language_info": {
      "name": "python"
    }
  },
  "cells": [
    {
      "cell_type": "markdown",
      "source": [
        "Artificial Neural network (ANN)\n",
        "\n",
        "The structure of the neural networks contains the input layer, hidden layers and output layer. So normally the information will be received by the input signal and then it will transferred to the hidden layers where all information will be processed. Finally, after processing all information, output will be released by output layer. This is how simple artificial neural networks work.\n",
        "\n",
        "Convolution Neural networks are ANNs (artificial neural networks). CNNs (convolutional neural networks) are made of up neurons that are connected to one another by weighted branches (weight); the training parameters of the networks are once again the weight and bias. In CNNs, the connection pattern between neurons is inspired by the structure of the visual cortex in the animal world. The individual neurons that are present in this part of the brain (visual cortex) respond to certain stimuli in a narrow region of the observation, called the receptive field. The receptive fields of different neurons are partially overlapped to cover the entire field of vision. The response of a signle neuron to stimuli taking pace in its receptive field can be mathematically approximated by a convolution operation.\n",
        "\n",
        "CNNs contains input layers, convolution layers, pooling layers fully connected layers and output layers.\n",
        "\n",
        "\n",
        "Convolution layer.\n",
        "\n",
        "This is the main type of layer; the use of one or more of these layers in CNNs are essentials. Convolution layers have neurons which are organized in 3 dimensions, such as width, height and depth.\n",
        "\n",
        "During the forward propagation, each filer which is spatially small (along the width and height dimensions) and extends over the entire depth of the input volumne to which it is applied, is translated or convoluted with the width and height of the input volumn producing a 2 dimensional activation map (or feature map) for that filer. As the filer moved alon ghte input area, a scalar product operation is performed between the values of the filer and those of the input portion to which it is applied.\n",
        "\n",
        "The goal of the network is to learn activated filters in the presence of some specific type of functionality in a given spatial region of the input. The queuing of all these feature maps (for all filers), and the depth dimension form the putput volumn of a convolution layer. Each element of this volumn can be interpreted as the output of a neuron that observes only a small region of the input which shares its parameters with the other neurons that in the same feature map. This is because these values all come from the application of the same filter."
      ],
      "metadata": {
        "id": "ouKlK3wB_wxS"
      }
    },
    {
      "cell_type": "markdown",
      "source": [
        "**Pooling layers**\n",
        "\n",
        "\n",
        "These layers are inserted into a network to reduce the spatial size (width and height) of current representations, as well as volumnes in a specific network stage; This serves to reduce the number of parameters and the computational time of the network. It also monitors overfitting. A pooling layer operates on each depth slice of the input volumn independently to resize it spatially.\n",
        "\n",
        "For each feature obtained in the convolutional step, a matrix will be bilt and we will find the maximum in each chosen matrix to shrink the entire input. The steps will be:\n",
        "\n",
        "\n",
        "1.   Pick a window size (2 or 3)\n",
        "\n",
        "1.   Pick a stride moving range of pixels (usually 2)\n",
        "2.   Slide the window across the filtered images\n",
        "\n",
        "\n",
        "2.   For each window, the maximum value will be chosen.\n",
        "\n",
        "\n",
        "A pooling lyers will divide input into regions and selects a single representative value (max pooling and average pooling).\n",
        "\n",
        "The max pool layer will select the maximum numnber of features that have been detected by the convolution layers that precede it. The output will check whether a hypothetical feature is present in a region of the previous layers or not, but not exactly where. Hence, the idea is to allow the successive layers to worn on larger selection of data. Max pooling allows for faster convergence rates, and therefore, allow us to select higher invariant features to improve the generalization performance.\n",
        "\n",
        "\n",
        "There are 2 main advantages of using pooling layer. The first advantage will be to reduce the calculation of subsequent layers adn the second advantage will be increase the robustness of the features with respect to spatial position.\n",
        "\n"
      ],
      "metadata": {
        "id": "vDCJ13oOSkjC"
      }
    }
  ]
}