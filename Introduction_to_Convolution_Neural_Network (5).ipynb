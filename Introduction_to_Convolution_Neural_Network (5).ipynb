{
  "nbformat": 4,
  "nbformat_minor": 0,
  "metadata": {
    "colab": {
      "name": "Introduction to Convolution Neural Network.ipynb",
      "provenance": [],
      "collapsed_sections": []
    },
    "kernelspec": {
      "name": "python3",
      "display_name": "Python 3"
    },
    "language_info": {
      "name": "python"
    }
  },
  "cells": [
    {
      "cell_type": "markdown",
      "source": [
        "Artificial Neural network (ANN)\n",
        "\n",
        "The structure of the neural networks contains the input layer, hidden layers and output layer. So normally the information will be received by the input signal and then it will transferred to the hidden layers where all information will be processed. Finally, after processing all information, output will be released by output layer. This is how simple artificial neural networks work.\n",
        "\n",
        "Convolution Neural networks are ANNs (artificial neural networks). CNNs (convolutional neural networks) are made of up neurons that are connected to one another by weighted branches (weight); the training parameters of the networks are once again the weight and bias. In CNNs, the connection pattern between neurons is inspired by the structure of the visual cortex in the animal world. The individual neurons that are present in this part of the brain (visual cortex) respond to certain stimuli in a narrow region of the observation, called the receptive field. The receptive fields of different neurons are partially overlapped to cover the entire field of vision. The response of a signle neuron to stimuli taking pace in its receptive field can be mathematically approximated by a convolution operation.\n",
        "\n",
        "CNNs contains input layers, convolution layers, pooling layers fully connected layers and output layers.\n",
        "\n",
        "\n",
        "Convolution layer.\n",
        "\n",
        "This is the main type of layer; the use of one or more of these layers in CNNs are essentials. Convolution layers have neurons which are organized in 3 dimensions, such as width, height and depth.\n",
        "\n",
        "During the forward propagation, each filer which is spatially small (along the width and height dimensions) and extends over the entire depth of the input volumne to which it is applied, is translated or convoluted with the width and height of the input volumn producing a 2 dimensional activation map (or feature map) for that filer. As the filer moved alon ghte input area, a scalar product operation is performed between the values of the filer and those of the input portion to which it is applied.\n",
        "\n",
        "The goal of the network is to learn activated filters in the presence of some specific type of functionality in a given spatial region of the input. The queuing of all these feature maps (for all filers), and the depth dimension form the putput volumn of a convolution layer. Each element of this volumn can be interpreted as the output of a neuron that observes only a small region of the input which shares its parameters with the other neurons that in the same feature map. This is because these values all come from the application of the same filter."
      ],
      "metadata": {
        "id": "ouKlK3wB_wxS"
      }
    },
    {
      "cell_type": "markdown",
      "source": [
        "**Pooling layers**\n",
        "\n",
        "\n",
        "These layers are inserted into a network to reduce the spatial size (width and height) of current representations, as well as volumnes in a specific network stage; This serves to reduce the number of parameters and the computational time of the network. It also monitors overfitting. A pooling layer operates on each depth slice of the input volumn independently to resize it spatially.\n",
        "\n",
        "For each feature obtained in the convolutional step, a matrix will be bilt and we will find the maximum in each chosen matrix to shrink the entire input. The steps will be:\n",
        "\n",
        "\n",
        "1.   Pick a window size (2 or 3)\n",
        "\n",
        "1.   Pick a stride moving range of pixels (usually 2)\n",
        "2.   Slide the window across the filtered images\n",
        "\n",
        "\n",
        "2.   For each window, the maximum value will be chosen.\n",
        "\n",
        "\n",
        "A pooling lyers will divide input into regions and selects a single representative value (max pooling and average pooling).\n",
        "\n",
        "The max pool layer will select the maximum numnber of features that have been detected by the convolution layers that precede it. The output will check whether a hypothetical feature is present in a region of the previous layers or not, but not exactly where. Hence, the idea is to allow the successive layers to worn on larger selection of data. Max pooling allows for faster convergence rates, and therefore, allow us to select higher invariant features to improve the generalization performance.\n",
        "\n",
        "\n",
        "There are 2 main advantages of using pooling layer. The first advantage will be to reduce the calculation of subsequent layers adn the second advantage will be increase the robustness of the features with respect to spatial position.\n",
        "\n"
      ],
      "metadata": {
        "id": "vDCJ13oOSkjC"
      }
    },
    {
      "cell_type": "markdown",
      "source": [
        "We will use the MNIST digits data set and we can access to this dataset via keras library"
      ],
      "metadata": {
        "id": "57r1jlllMqsh"
      }
    },
    {
      "cell_type": "code",
      "source": [
        "# Implement basic CNN\n",
        "# First step is we need to import and load all neccessary libraries\n",
        "import matplotlib.pyplot as plt\n",
        "import numpy as np\n",
        "import tensorflow as tf"
      ],
      "metadata": {
        "id": "d8-C2O78Mdqb"
      },
      "execution_count": 8,
      "outputs": []
    },
    {
      "cell_type": "code",
      "source": [
        "# The second step is we need to load the data and reshape the images in a 4-dimensional matrix\n",
        "(x_train, y_train), (x_test, y_test) = tf.keras.datasets.mnist.load_data()\n",
        "# Reshape\n",
        "x_train = x_train.reshape(-1, 28, 28, 1)\n",
        "x_test = x_test.reshape(-1, 28,28,1)\n",
        "# Padding the images by 2 pixels\n",
        "x_train=np.pad(x_train, ((0,0),(2,2),(2,2),(0,0)), 'constant')\n",
        "x_test=np.pad(x_test, ((0,0),(2,2),(2,2),(0,0)), 'constant')"
      ],
      "metadata": {
        "id": "WroO9eEYM8OU"
      },
      "execution_count": 9,
      "outputs": []
    },
    {
      "cell_type": "markdown",
      "source": [
        "The MNIST dataset includes training and test datasets. These datasets are composed of the grayscale images (integer arrays with shape (num_sample, 28,28)) and the labels (integers in the range 0-9). Images are padded by 2 pixels because the input images were 32x32.\n",
        "\n",
        "\n",
        "The next step is model parameters need to be set and the deph of the image (number of channels) will be 1. The reason for that is these images are grayscale."
      ],
      "metadata": {
        "id": "UsTm2OirNuWE"
      }
    },
    {
      "cell_type": "code",
      "source": [
        "image_width= x_train[0].shape[0]\n",
        "image_height= x_train[0].shape[1]\n",
        "num_channels = 1 # grayscale = 1 channel\n",
        "seed= 98\n",
        "np.random.seed(seed)\n",
        "tf.random.set_seed(seed)"
      ],
      "metadata": {
        "id": "-2u3sSoXOVH0"
      },
      "execution_count": 10,
      "outputs": []
    },
    {
      "cell_type": "markdown",
      "source": [
        "The next is training and test data variables will be declared and there will be various batch sizes for traing and evaluation. These values can be changed depending on the physical memory that is avaible for training and evaluating."
      ],
      "metadata": {
        "id": "eFjvdhCNOp9I"
      }
    },
    {
      "cell_type": "code",
      "source": [
        "batch_size = 100\n",
        "evaluation_size = 500\n",
        "epochs=300\n",
        "eval_every=5"
      ],
      "metadata": {
        "id": "IELxLQWsO-a6"
      },
      "execution_count": 11,
      "outputs": []
    },
    {
      "cell_type": "markdown",
      "source": [
        " our images need to be normalized to change the values of all pixels to a common scale\n",
        "\n"
      ],
      "metadata": {
        "id": "zuLCYHhpPHSW"
      }
    },
    {
      "cell_type": "code",
      "source": [
        "x_train = x_train/255\n",
        "x_test= x_test/255"
      ],
      "metadata": {
        "id": "YyWgFfYBPHEm"
      },
      "execution_count": 12,
      "outputs": []
    },
    {
      "cell_type": "markdown",
      "source": [
        "We will declare our model. We will have the feature extractor module composed of 2 convolutional/ReLu/max pooling layers followed by the classifier with fully connected layers. Also, to get the classifier to work, we flatten the output of the feature extractor module so we can use it in the classifier.We will use a softmaxt activation function at the last layer of the classifier. Softmax will turn numeric output (logits) into probabilities that sum to one."
      ],
      "metadata": {
        "id": "R09uNbeGeTPl"
      }
    },
    {
      "cell_type": "code",
      "source": [
        "input_data = tf.keras.Input(dtype=tf.float32, shape=(image_width,image_height, num_channels), name=\"INPUT\")\n",
        "# First Conv-ReLU-MaxPool Layer\n",
        "conv1 = tf.keras.layers.Conv2D(filters=6,\n",
        "                               kernel_size=5,\n",
        "                               padding='VALID',\n",
        "                               activation=\"relu\",\n",
        "                               name=\"C1\")(input_data)\n",
        "max_pool1 = tf.keras.layers.MaxPool2D(pool_size=2,\n",
        "                                      strides=2, \n",
        "                                      padding='SAME',\n",
        "                                      name=\"S1\")(conv1)\n",
        "# Second Conv-ReLU-MaxPool Layer\n",
        "conv2 = tf.keras.layers.Conv2D(filters=16,\n",
        "                               kernel_size=5,\n",
        "                               padding='VALID',\n",
        "                               strides=1,\n",
        "                               activation=\"relu\",\n",
        "                               name=\"C3\")(max_pool1)\n",
        "max_pool2 = tf.keras.layers.MaxPool2D(pool_size=2,\n",
        "                                      strides=2, \n",
        "                                      padding='SAME',\n",
        "                                      name=\"S4\")(conv2)\n",
        "# Flatten Layer\n",
        "flatten = tf.keras.layers.Flatten(name=\"FLATTEN\")(max_pool2)\n",
        "# First Fully Connected Layer\n",
        "fully_connected1 = tf.keras.layers.Dense(units=120,\n",
        "                                         activation=\"relu\",\n",
        "                                         name=\"F5\")(flatten)\n",
        "# Second Fully Connected Layer\n",
        "fully_connected2 = tf.keras.layers.Dense(units=84,\n",
        "                                         activation=\"relu\",\n",
        "                                         name=\"F6\")(fully_connected1)\n",
        "# Final Fully Connected Layer\n",
        "final_model_output = tf.keras.layers.Dense(units=10,\n",
        "                                           activation=\"softmax\",\n",
        "                                           name=\"OUTPUT\"\n",
        "                                           )(fully_connected2)\n",
        "    \n",
        "model = tf.keras.Model(inputs= input_data, outputs=final_model_output)\n"
      ],
      "metadata": {
        "id": "FwYkQepUew01"
      },
      "execution_count": 13,
      "outputs": []
    },
    {
      "cell_type": "markdown",
      "source": [
        "Next we will compile the model using an Adam (Adaptive Moment Estimation) optimizer. Adam uses adaptive learning rates and momentum that allo us to get to local minima faster and so converge faster. As our targets are integers and not in a one-hot-encoded format, we will use the sparse categorical cross-entropy loss function and then we will add an accuracy metric to determine how accruate the model in each batch."
      ],
      "metadata": {
        "id": "0uv-PjZsrIGC"
      }
    },
    {
      "cell_type": "code",
      "source": [
        "model.compile(optimizer=\"adam\", loss=\"sparse_categorical_crossentropy\", metrics=[\"accuracy\"])\n",
        "model.summary()"
      ],
      "metadata": {
        "colab": {
          "base_uri": "https://localhost:8080/"
        },
        "id": "FMzhti33ri2_",
        "outputId": "0886d4a2-5d8a-4ab6-8c80-59932140aa00"
      },
      "execution_count": 14,
      "outputs": [
        {
          "output_type": "stream",
          "name": "stdout",
          "text": [
            "Model: \"model_1\"\n",
            "_________________________________________________________________\n",
            " Layer (type)                Output Shape              Param #   \n",
            "=================================================================\n",
            " INPUT (InputLayer)          [(None, 32, 32, 1)]       0         \n",
            "                                                                 \n",
            " C1 (Conv2D)                 (None, 28, 28, 6)         156       \n",
            "                                                                 \n",
            " S1 (MaxPooling2D)           (None, 14, 14, 6)         0         \n",
            "                                                                 \n",
            " C3 (Conv2D)                 (None, 10, 10, 16)        2416      \n",
            "                                                                 \n",
            " S4 (MaxPooling2D)           (None, 5, 5, 16)          0         \n",
            "                                                                 \n",
            " FLATTEN (Flatten)           (None, 400)               0         \n",
            "                                                                 \n",
            " F5 (Dense)                  (None, 120)               48120     \n",
            "                                                                 \n",
            " F6 (Dense)                  (None, 84)                10164     \n",
            "                                                                 \n",
            " OUTPUT (Dense)              (None, 10)                850       \n",
            "                                                                 \n",
            "=================================================================\n",
            "Total params: 61,706\n",
            "Trainable params: 61,706\n",
            "Non-trainable params: 0\n",
            "_________________________________________________________________\n"
          ]
        }
      ]
    },
    {
      "cell_type": "markdown",
      "source": [
        "The LeNet-5 model has 7 layers and contains 61706 trainable parameters. So it is a time to train the mode. We can start training our model and we will loop through the data in randomly chosen batches. Every so often we can choose to evaluate the model on the train and test batches and record the accuracy and loss."
      ],
      "metadata": {
        "id": "tfhIbARfr1Le"
      }
    },
    {
      "cell_type": "code",
      "source": [
        "train_loss = []\n",
        "train_acc = []\n",
        "test_acc = []\n",
        "for i in range(epochs):\n",
        "    rand_index = np.random.choice(len(x_train), size=batch_size)\n",
        "    rand_x = x_train[rand_index]\n",
        "    rand_y = y_train[rand_index]\n",
        "    \n",
        "    history_train = model.train_on_batch(rand_x, rand_y)\n",
        "    \n",
        "    if (i+1) % eval_every == 0:\n",
        "        eval_index = np.random.choice(len(x_test), size=evaluation_size)\n",
        "        eval_x = x_test[eval_index]\n",
        "        eval_y = y_test[eval_index]\n",
        "        \n",
        "        history_eval = model.evaluate(eval_x,eval_y)\n",
        "        \n",
        "        # Record and print results\n",
        "        train_loss.append(history_train[0])\n",
        "        train_acc.append(history_train[1])\n",
        "        test_acc.append(history_eval[1])\n",
        "        acc_and_loss = [(i+1), history_train\n",
        " [0], history_train[1], history_eval[1]]\n",
        "        acc_and_loss = [np.round(x,2) for x in acc_and_loss]\n",
        "        print('Epoch # {}. Train Loss: {:.2f}. Train Acc (Test Acc): {:.2f} ({:.2f})'.format(*acc_and_loss)) \n"
      ],
      "metadata": {
        "colab": {
          "base_uri": "https://localhost:8080/"
        },
        "id": "w9v0kWUysKN6",
        "outputId": "379f3ca4-40f9-4e2c-f3d8-000d963916d0"
      },
      "execution_count": 15,
      "outputs": [
        {
          "output_type": "stream",
          "name": "stdout",
          "text": [
            "16/16 [==============================] - 0s 10ms/step - loss: 2.1737 - accuracy: 0.3460\n",
            "Epoch # 5. Train Loss: 2.19. Train Acc (Test Acc): 0.23 (0.35)\n",
            "16/16 [==============================] - 0s 10ms/step - loss: 1.9760 - accuracy: 0.5780\n",
            "Epoch # 10. Train Loss: 2.01. Train Acc (Test Acc): 0.60 (0.58)\n",
            "16/16 [==============================] - 0s 19ms/step - loss: 1.6060 - accuracy: 0.7300\n",
            "Epoch # 15. Train Loss: 1.71. Train Acc (Test Acc): 0.74 (0.73)\n",
            "16/16 [==============================] - 0s 15ms/step - loss: 1.2112 - accuracy: 0.7720\n",
            "Epoch # 20. Train Loss: 1.32. Train Acc (Test Acc): 0.73 (0.77)\n",
            "16/16 [==============================] - 0s 14ms/step - loss: 0.8707 - accuracy: 0.7980\n",
            "Epoch # 25. Train Loss: 0.93. Train Acc (Test Acc): 0.78 (0.80)\n",
            "16/16 [==============================] - 0s 9ms/step - loss: 0.6751 - accuracy: 0.7940\n",
            "Epoch # 30. Train Loss: 0.82. Train Acc (Test Acc): 0.76 (0.79)\n",
            "16/16 [==============================] - 0s 10ms/step - loss: 0.5111 - accuracy: 0.8460\n",
            "Epoch # 35. Train Loss: 0.60. Train Acc (Test Acc): 0.75 (0.85)\n",
            "16/16 [==============================] - 0s 9ms/step - loss: 0.5526 - accuracy: 0.8140\n",
            "Epoch # 40. Train Loss: 0.41. Train Acc (Test Acc): 0.91 (0.81)\n",
            "16/16 [==============================] - 0s 10ms/step - loss: 0.4932 - accuracy: 0.8520\n",
            "Epoch # 45. Train Loss: 0.51. Train Acc (Test Acc): 0.83 (0.85)\n",
            "16/16 [==============================] - 0s 10ms/step - loss: 0.3824 - accuracy: 0.8700\n",
            "Epoch # 50. Train Loss: 0.50. Train Acc (Test Acc): 0.80 (0.87)\n",
            "16/16 [==============================] - 0s 11ms/step - loss: 0.3617 - accuracy: 0.8860\n",
            "Epoch # 55. Train Loss: 0.36. Train Acc (Test Acc): 0.88 (0.89)\n",
            "16/16 [==============================] - 0s 10ms/step - loss: 0.3589 - accuracy: 0.8780\n",
            "Epoch # 60. Train Loss: 0.37. Train Acc (Test Acc): 0.86 (0.88)\n",
            "16/16 [==============================] - 0s 10ms/step - loss: 0.3742 - accuracy: 0.8840\n",
            "Epoch # 65. Train Loss: 0.39. Train Acc (Test Acc): 0.90 (0.88)\n",
            "16/16 [==============================] - 0s 10ms/step - loss: 0.4148 - accuracy: 0.9000\n",
            "Epoch # 70. Train Loss: 0.49. Train Acc (Test Acc): 0.89 (0.90)\n",
            "16/16 [==============================] - 0s 10ms/step - loss: 0.3315 - accuracy: 0.9180\n",
            "Epoch # 75. Train Loss: 0.39. Train Acc (Test Acc): 0.87 (0.92)\n",
            "16/16 [==============================] - 0s 10ms/step - loss: 0.2865 - accuracy: 0.9080\n",
            "Epoch # 80. Train Loss: 0.45. Train Acc (Test Acc): 0.87 (0.91)\n",
            "16/16 [==============================] - 0s 10ms/step - loss: 0.3571 - accuracy: 0.9000\n",
            "Epoch # 85. Train Loss: 0.30. Train Acc (Test Acc): 0.94 (0.90)\n",
            "16/16 [==============================] - 0s 10ms/step - loss: 0.2879 - accuracy: 0.9220\n",
            "Epoch # 90. Train Loss: 0.41. Train Acc (Test Acc): 0.85 (0.92)\n",
            "16/16 [==============================] - 0s 10ms/step - loss: 0.2728 - accuracy: 0.9260\n",
            "Epoch # 95. Train Loss: 0.29. Train Acc (Test Acc): 0.91 (0.93)\n",
            "16/16 [==============================] - 0s 12ms/step - loss: 0.2858 - accuracy: 0.9160\n",
            "Epoch # 100. Train Loss: 0.21. Train Acc (Test Acc): 0.94 (0.92)\n",
            "16/16 [==============================] - 0s 10ms/step - loss: 0.2937 - accuracy: 0.9120\n",
            "Epoch # 105. Train Loss: 0.17. Train Acc (Test Acc): 0.93 (0.91)\n",
            "16/16 [==============================] - 0s 10ms/step - loss: 0.2673 - accuracy: 0.9160\n",
            "Epoch # 110. Train Loss: 0.30. Train Acc (Test Acc): 0.92 (0.92)\n",
            "16/16 [==============================] - 0s 10ms/step - loss: 0.1978 - accuracy: 0.9360\n",
            "Epoch # 115. Train Loss: 0.21. Train Acc (Test Acc): 0.93 (0.94)\n",
            "16/16 [==============================] - 0s 11ms/step - loss: 0.2887 - accuracy: 0.9180\n",
            "Epoch # 120. Train Loss: 0.45. Train Acc (Test Acc): 0.86 (0.92)\n",
            "16/16 [==============================] - 0s 10ms/step - loss: 0.2644 - accuracy: 0.9240\n",
            "Epoch # 125. Train Loss: 0.16. Train Acc (Test Acc): 0.96 (0.92)\n",
            "16/16 [==============================] - 0s 11ms/step - loss: 0.1739 - accuracy: 0.9400\n",
            "Epoch # 130. Train Loss: 0.27. Train Acc (Test Acc): 0.90 (0.94)\n",
            "16/16 [==============================] - 0s 10ms/step - loss: 0.2494 - accuracy: 0.9200\n",
            "Epoch # 135. Train Loss: 0.14. Train Acc (Test Acc): 0.95 (0.92)\n",
            "16/16 [==============================] - 0s 11ms/step - loss: 0.2300 - accuracy: 0.9360\n",
            "Epoch # 140. Train Loss: 0.20. Train Acc (Test Acc): 0.94 (0.94)\n",
            "16/16 [==============================] - 0s 10ms/step - loss: 0.2008 - accuracy: 0.9380\n",
            "Epoch # 145. Train Loss: 0.31. Train Acc (Test Acc): 0.93 (0.94)\n",
            "16/16 [==============================] - 0s 10ms/step - loss: 0.2835 - accuracy: 0.9120\n",
            "Epoch # 150. Train Loss: 0.28. Train Acc (Test Acc): 0.91 (0.91)\n",
            "16/16 [==============================] - 0s 10ms/step - loss: 0.2244 - accuracy: 0.9340\n",
            "Epoch # 155. Train Loss: 0.33. Train Acc (Test Acc): 0.90 (0.93)\n",
            "16/16 [==============================] - 0s 10ms/step - loss: 0.1567 - accuracy: 0.9480\n",
            "Epoch # 160. Train Loss: 0.17. Train Acc (Test Acc): 0.93 (0.95)\n",
            "16/16 [==============================] - 0s 10ms/step - loss: 0.2113 - accuracy: 0.9560\n",
            "Epoch # 165. Train Loss: 0.15. Train Acc (Test Acc): 0.96 (0.96)\n",
            "16/16 [==============================] - 0s 10ms/step - loss: 0.1880 - accuracy: 0.9440\n",
            "Epoch # 170. Train Loss: 0.25. Train Acc (Test Acc): 0.89 (0.94)\n",
            "16/16 [==============================] - 0s 10ms/step - loss: 0.2092 - accuracy: 0.9420\n",
            "Epoch # 175. Train Loss: 0.30. Train Acc (Test Acc): 0.91 (0.94)\n",
            "16/16 [==============================] - 0s 10ms/step - loss: 0.1779 - accuracy: 0.9520\n",
            "Epoch # 180. Train Loss: 0.24. Train Acc (Test Acc): 0.95 (0.95)\n",
            "16/16 [==============================] - 0s 10ms/step - loss: 0.1469 - accuracy: 0.9640\n",
            "Epoch # 185. Train Loss: 0.17. Train Acc (Test Acc): 0.95 (0.96)\n",
            "16/16 [==============================] - 0s 10ms/step - loss: 0.1932 - accuracy: 0.9440\n",
            "Epoch # 190. Train Loss: 0.29. Train Acc (Test Acc): 0.92 (0.94)\n",
            "16/16 [==============================] - 0s 13ms/step - loss: 0.1569 - accuracy: 0.9620\n",
            "Epoch # 195. Train Loss: 0.19. Train Acc (Test Acc): 0.96 (0.96)\n",
            "16/16 [==============================] - 0s 12ms/step - loss: 0.2003 - accuracy: 0.9420\n",
            "Epoch # 200. Train Loss: 0.23. Train Acc (Test Acc): 0.93 (0.94)\n",
            "16/16 [==============================] - 0s 10ms/step - loss: 0.2337 - accuracy: 0.9240\n",
            "Epoch # 205. Train Loss: 0.24. Train Acc (Test Acc): 0.93 (0.92)\n",
            "16/16 [==============================] - 0s 11ms/step - loss: 0.1747 - accuracy: 0.9620\n",
            "Epoch # 210. Train Loss: 0.08. Train Acc (Test Acc): 0.97 (0.96)\n",
            "16/16 [==============================] - 0s 10ms/step - loss: 0.1674 - accuracy: 0.9540\n",
            "Epoch # 215. Train Loss: 0.38. Train Acc (Test Acc): 0.91 (0.95)\n",
            "16/16 [==============================] - 0s 11ms/step - loss: 0.1358 - accuracy: 0.9580\n",
            "Epoch # 220. Train Loss: 0.11. Train Acc (Test Acc): 0.97 (0.96)\n",
            "16/16 [==============================] - 0s 10ms/step - loss: 0.1772 - accuracy: 0.9440\n",
            "Epoch # 225. Train Loss: 0.14. Train Acc (Test Acc): 0.94 (0.94)\n",
            "16/16 [==============================] - 0s 11ms/step - loss: 0.1474 - accuracy: 0.9440\n",
            "Epoch # 230. Train Loss: 0.16. Train Acc (Test Acc): 0.94 (0.94)\n",
            "16/16 [==============================] - 0s 10ms/step - loss: 0.1856 - accuracy: 0.9500\n",
            "Epoch # 235. Train Loss: 0.23. Train Acc (Test Acc): 0.94 (0.95)\n",
            "16/16 [==============================] - 0s 10ms/step - loss: 0.1608 - accuracy: 0.9420\n",
            "Epoch # 240. Train Loss: 0.20. Train Acc (Test Acc): 0.94 (0.94)\n",
            "16/16 [==============================] - 0s 10ms/step - loss: 0.1410 - accuracy: 0.9500\n",
            "Epoch # 245. Train Loss: 0.13. Train Acc (Test Acc): 0.96 (0.95)\n",
            "16/16 [==============================] - 0s 10ms/step - loss: 0.1913 - accuracy: 0.9400\n",
            "Epoch # 250. Train Loss: 0.29. Train Acc (Test Acc): 0.93 (0.94)\n",
            "16/16 [==============================] - 0s 14ms/step - loss: 0.1984 - accuracy: 0.9480\n",
            "Epoch # 255. Train Loss: 0.08. Train Acc (Test Acc): 0.98 (0.95)\n",
            "16/16 [==============================] - 0s 10ms/step - loss: 0.1614 - accuracy: 0.9460\n",
            "Epoch # 260. Train Loss: 0.12. Train Acc (Test Acc): 0.96 (0.95)\n",
            "16/16 [==============================] - 0s 11ms/step - loss: 0.1445 - accuracy: 0.9520\n",
            "Epoch # 265. Train Loss: 0.22. Train Acc (Test Acc): 0.92 (0.95)\n",
            "16/16 [==============================] - 0s 10ms/step - loss: 0.1589 - accuracy: 0.9560\n",
            "Epoch # 270. Train Loss: 0.20. Train Acc (Test Acc): 0.93 (0.96)\n",
            "16/16 [==============================] - 0s 12ms/step - loss: 0.1691 - accuracy: 0.9500\n",
            "Epoch # 275. Train Loss: 0.26. Train Acc (Test Acc): 0.91 (0.95)\n",
            "16/16 [==============================] - 0s 23ms/step - loss: 0.1428 - accuracy: 0.9640\n",
            "Epoch # 280. Train Loss: 0.13. Train Acc (Test Acc): 0.97 (0.96)\n",
            "16/16 [==============================] - 0s 15ms/step - loss: 0.1349 - accuracy: 0.9540\n",
            "Epoch # 285. Train Loss: 0.15. Train Acc (Test Acc): 0.97 (0.95)\n",
            "16/16 [==============================] - 0s 12ms/step - loss: 0.1827 - accuracy: 0.9420\n",
            "Epoch # 290. Train Loss: 0.18. Train Acc (Test Acc): 0.95 (0.94)\n",
            "16/16 [==============================] - 0s 15ms/step - loss: 0.1482 - accuracy: 0.9580\n",
            "Epoch # 295. Train Loss: 0.12. Train Acc (Test Acc): 0.97 (0.96)\n",
            "16/16 [==============================] - 0s 16ms/step - loss: 0.1308 - accuracy: 0.9680\n",
            "Epoch # 300. Train Loss: 0.11. Train Acc (Test Acc): 0.96 (0.97)\n"
          ]
        }
      ]
    },
    {
      "cell_type": "markdown",
      "source": [
        "As can be seen from the above result after 300 epochs, the accuracy is around 96-97%"
      ],
      "metadata": {
        "id": "yC1Jf4zWuIZw"
      }
    },
    {
      "cell_type": "code",
      "source": [
        "# Matlotlib code to plot the loss and accuracy\n",
        "eval_indices = range(0, epochs, eval_every)\n",
        "# Plot loss over time\n",
        "plt.plot(eval_indices, train_loss, 'k-')\n",
        "plt.title('Loss per Epoch')\n",
        "plt.xlabel('Epoch')\n",
        "plt.ylabel('Loss')\n",
        "plt.show()\n",
        "# Plot train and test accuracy\n",
        "plt.plot(eval_indices, train_acc, 'k-', label='Train Set Accuracy')\n",
        "plt.plot(eval_indices, test_acc, 'r--', label='Test Set Accuracy')\n",
        "plt.title('Train and Test Accuracy')\n",
        "plt.xlabel('Epoch')\n",
        "plt.ylabel('Accuracy')\n",
        "plt.legend(loc='lower right')\n",
        "plt.show() \n"
      ],
      "metadata": {
        "colab": {
          "base_uri": "https://localhost:8080/",
          "height": 573
        },
        "id": "hdMoznI0uDPl",
        "outputId": "a6526184-06a5-4c40-f82a-831b237ed1eb"
      },
      "execution_count": 16,
      "outputs": [
        {
          "output_type": "display_data",
          "data": {
            "text/plain": [
              "<Figure size 432x288 with 1 Axes>"
            ],
            "image/png": "[encoded data removed]"
          },
          "metadata": {
            "needs_background": "light"
          }
        },
        {
          "output_type": "display_data",
          "data": {
            "text/plain": [
              "<Figure size 432x288 with 1 Axes>"
            ],
            "image/png": "[encoded data removed]"
          },
          "metadata": {
            "needs_background": "light"
          }
        }
      ]
    },
    {
      "cell_type": "markdown",
      "source": [
        "The bottom graph is the train and test set accuracy across 300 training epochs and the top plot is the softmax loss value over 300 epochs."
      ],
      "metadata": {
        "id": "hEHmVUGmvLpy"
      }
    },
    {
      "cell_type": "markdown",
      "source": [
        "If we want to plot a sample of the lastest batch result we can plot it."
      ],
      "metadata": {
        "id": "KzV-4KWJvdIP"
      }
    },
    {
      "cell_type": "code",
      "source": [
        "# Plot some samples and their predictions\n",
        "actuals = y_test[30:36]\n",
        "preds = model.predict(x_test[30:36])\n",
        "predictions = np.argmax(preds,axis=1)\n",
        "images = np.squeeze(x_test[30:36])\n",
        "Nrows = 2\n",
        "Ncols = 3\n",
        "for i in range(6):\n",
        "    plt.subplot(Nrows, Ncols, i+1)\n",
        "    plt.imshow(np.reshape(images[i], [32,32]), cmap='Greys_r')\n",
        "    plt.title('Actual: ' + str(actuals[i]) + ' Pred: ' + str(predictions[i]),\n",
        "                               fontsize=10)\n",
        "    frame = plt.gca()\n",
        "    frame.axes.get_xaxis().set_visible(False)\n",
        "    frame.axes.get_yaxis().set_visible(False)\n",
        "plt.show() \n"
      ],
      "metadata": {
        "colab": {
          "base_uri": "https://localhost:8080/",
          "height": 265
        },
        "id": "lMpmxiRrvii2",
        "outputId": "a96c30f7-bb5f-4fe8-f1c4-4d9d4e28c429"
      },
      "execution_count": 17,
      "outputs": [
        {
          "output_type": "display_data",
          "data": {
            "text/plain": [
              "<Figure size 432x288 with 6 Axes>"
            ],
            "image/png": "[encoded data removed]"
          },
          "metadata": {
            "needs_background": "light"
          }
        }
      ]
    },
    {
      "cell_type": "markdown",
      "source": [
        "As can be seen from the above result, we did build successfully a simple CNN model which has a good result in accuracy and loss for this project."
      ],
      "metadata": {
        "id": "KigiYuskwngx"
      }
    }
  ]
}